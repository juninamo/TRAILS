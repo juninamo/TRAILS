{
 "cells": [
  {
   "cell_type": "code",
   "execution_count": 1,
   "id": "54693e4f-f0e7-4d71-971f-40667ea3c901",
   "metadata": {},
   "outputs": [],
   "source": [
    "library(data.table)\n",
    "library(ggplot2)\n",
    "library(RColorBrewer)\n",
    "library(ggsci)\n",
    "library(magrittr) \n",
    "library(ggrepel)"
   ]
  },
  {
   "cell_type": "markdown",
   "id": "16559a77-9fa8-41e3-b8bf-75845a1efbb2",
   "metadata": {},
   "source": [
    "# Figure 1"
   ]
  },
  {
   "cell_type": "code",
   "execution_count": null,
   "id": "65ecb888-a39d-441e-8846-616532243cdd",
   "metadata": {},
   "outputs": [],
   "source": [
    "options(repr.plot.width=6, repr.plot.height=4)\n",
    "\n",
    "#load data\n",
    "load(\"../data/data_Fig01.RData\")\n",
    "res <- isoform_Info\n",
    "\n",
    "out %>% ggplot(aes(x=Data,y=N,fill=Range)) +\n",
    "    geom_bar(stat=\"identity\") +\n",
    "    coord_flip() +\n",
    "    theme_bw() +\n",
    "    theme(legend.position=\"top\") +\n",
    "    theme( axis.line = element_line(colour = \"black\"), axis.text=element_text(colour=\"black\") ) +\n",
    "    theme( panel.grid.major = element_blank(), panel.grid.minor = element_blank() ) +\n",
    "    theme( panel.border = element_blank(), panel.background = element_blank() ) +\n",
    "    labs(title=\"Trans (1Mb): all loci\",x=\"\",y=\"\") +\n",
    "    scale_fill_nejm(name=\"\") \n",
    "\n",
    "show(res)"
   ]
  }
 ],
 "metadata": {
  "kernelspec": {
   "display_name": "R",
   "language": "R",
   "name": "ir"
  },
  "language_info": {
   "codemirror_mode": "r",
   "file_extension": ".r",
   "mimetype": "text/x-r-source",
   "name": "R",
   "pygments_lexer": "r",
   "version": "4.1.3"
  }
 },
 "nbformat": 4,
 "nbformat_minor": 5
}
