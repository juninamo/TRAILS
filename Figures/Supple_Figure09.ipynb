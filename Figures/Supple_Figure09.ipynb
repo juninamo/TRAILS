{
 "cells": [
  {
   "cell_type": "code",
   "execution_count": 1,
   "id": "6f0a8c3b-e72d-48f6-b096-2b9e29ab6a74",
   "metadata": {},
   "outputs": [],
   "source": [
    "suppressMessages(library(data.table))\n",
    "suppressMessages(library(ggplot2))\n",
    "suppressMessages(library(ggsci))\n",
    "suppressMessages(library(magrittr))\n",
    "suppressMessages(library(ggrepel))\n",
    "suppressMessages(library(dplyr))\n",
    "suppressMessages(library(ggpubr))\n",
    "suppressMessages(library(valr))\n",
    "suppressMessages(library(ggiraphExtra))\n",
    "options(warn=-1) # use options(warn=0) To turn warnings back on\n",
    "options(dplyr.summarise.inform = FALSE)\n",
    "source(\"../src/plot_iso_structure.r\")"
   ]
  },
  {
   "cell_type": "code",
   "execution_count": 2,
   "id": "05df2e90-ab2a-4ac7-9eeb-c2a1b8a0c30d",
   "metadata": {},
   "outputs": [],
   "source": [
    "setwd(\"/Users/inamojun/TMDU-LR_isoform_atlas/Figures\")"
   ]
  },
  {
   "cell_type": "code",
   "execution_count": 3,
   "id": "7e8479d6-eb6f-41c4-8f6a-1e28423d4e31",
   "metadata": {},
   "outputs": [],
   "source": [
    "#load data\n",
    "load(\"../data/data_Fig02extra.RData\")"
   ]
  },
  {
   "cell_type": "code",
   "execution_count": 6,
   "id": "e6ad7032-1008-477a-8272-7758b4888e2d",
   "metadata": {},
   "outputs": [
    {
     "name": "stdout",
     "output_type": "stream",
     "text": [
      "[1] \"extracting ATAC-seq peak...\"\n"
     ]
    },
    {
     "ename": "ERROR",
     "evalue": "\u001b[1m\u001b[33mError\u001b[39m in \u001b[1m\u001b[1m`dplyr::mutate()`:\u001b[22m\n\u001b[1m\u001b[22m\u001b[33m!\u001b[39m Problem while computing `chrom = region_chrom`.\n\u001b[31m✖\u001b[39m `chrom` must be size 300068400 or 1, not 2.\n",
     "output_type": "error",
     "traceback": [
      "\u001b[1m\u001b[33mError\u001b[39m in \u001b[1m\u001b[1m`dplyr::mutate()`:\u001b[22m\n\u001b[1m\u001b[22m\u001b[33m!\u001b[39m Problem while computing `chrom = region_chrom`.\n\u001b[31m✖\u001b[39m `chrom` must be size 300068400 or 1, not 2.\nTraceback:\n",
      "1. plot_iso_structure(gene = gene, extra = 1000, repeat_draw = FALSE, \n .     atac_draw = TRUE, rip_draw = FALSE)",
      "2. purrr::map_df(result_list, ~as.data.frame(.x)) %>% merge(., sum_atac, \n .     by = \"isoform\") %>% dplyr::mutate(height = 1e+10 * height/sum_count, \n .     height = max(height), anno = \"ATAC\", domain = NA, associated_gene = NA, \n .     region = \"ATAC_dummy\", chrom = region_chrom)",
      "3. dplyr::mutate(., height = 1e+10 * height/sum_count, height = max(height), \n .     anno = \"ATAC\", domain = NA, associated_gene = NA, region = \"ATAC_dummy\", \n .     chrom = region_chrom)",
      "4. mutate.data.frame(., height = 1e+10 * height/sum_count, height = max(height), \n .     anno = \"ATAC\", domain = NA, associated_gene = NA, region = \"ATAC_dummy\", \n .     chrom = region_chrom)",
      "5. mutate_cols(.data, dplyr_quosures(...), caller_env = caller_env())",
      "6. withCallingHandlers({\n .     for (i in seq_along(dots)) {\n .         context_poke(\"column\", old_current_column)\n .         quosures <- expand_across(dots[[i]])\n .         quosures_results <- vector(mode = \"list\", length = length(quosures))\n .         for (k in seq_along(quosures)) {\n .             quo <- quosures[[k]]\n .             quo_data <- attr(quo, \"dplyr:::data\")\n .             if (!is.null(quo_data$column)) {\n .                 context_poke(\"column\", quo_data$column)\n .             }\n .             chunks <- NULL\n .             result <- NULL\n .             if (quo_is_symbol(quo)) {\n .                 name <- as_string(quo_get_expr(quo))\n .                 if (name %in% names(new_columns)) {\n .                   result <- new_columns[[name]]\n .                   chunks <- mask$resolve(name)\n .                 }\n .                 else if (name %in% names(.data)) {\n .                   result <- .data[[name]]\n .                   chunks <- mask$resolve(name)\n .                 }\n .                 if (inherits(.data, \"rowwise_df\") && vec_is_list(result)) {\n .                   sizes <- list_sizes(result)\n .                   wrong <- which(sizes != 1)\n .                   if (length(wrong)) {\n .                     group <- wrong[1L]\n .                     mask$set_current_group(group)\n .                     abort(class = c(\"dplyr:::mutate_incompatible_size\", \n .                       \"dplyr:::internal_error\"), dplyr_error_data = list(result_size = sizes[group], \n .                       expected_size = 1))\n .                   }\n .                 }\n .             }\n .             else if (!quo_is_symbolic(quo) && !is.null(quo_get_expr(quo))) {\n .                 result <- quo_get_expr(quo)\n .                 result <- withCallingHandlers(vec_recycle(result, \n .                   vec_size(.data)), error = function(cnd) {\n .                   abort(class = c(\"dplyr:::mutate_constant_recycle_error\", \n .                     \"dplyr:::internal_error\"), constant_size = vec_size(result), \n .                     data_size = vec_size(.data))\n .                 })\n .                 chunks <- vec_chop(result, rows)\n .             }\n .             if (is.null(chunks)) {\n .                 if (is.null(quo_data$column)) {\n .                   chunks <- mask$eval_all_mutate(quo)\n .                 }\n .                 else {\n .                   chunks <- withCallingHandlers(mask$eval_all_mutate(quo), \n .                     error = function(cnd) {\n .                       msg <- glue(\"Problem while computing column `{quo_data$name_auto}`.\")\n .                       abort(msg, call = call(\"across\"), parent = cnd)\n .                     })\n .                 }\n .             }\n .             if (is.null(chunks)) {\n .                 next\n .             }\n .             if (is.null(result)) {\n .                 if (length(rows) == 1) {\n .                   result <- chunks[[1]]\n .                 }\n .                 else {\n .                   chunks <- dplyr_vec_cast_common(chunks, quo_data$name_auto)\n .                   result <- vec_unchop(chunks, rows)\n .                 }\n .             }\n .             quosures_results[[k]] <- list(result = result, chunks = chunks)\n .         }\n .         for (k in seq_along(quosures)) {\n .             quo <- quosures[[k]]\n .             quo_data <- attr(quo, \"dplyr:::data\")\n .             quo_result <- quosures_results[[k]]\n .             if (is.null(quo_result)) {\n .                 if (quo_data$is_named) {\n .                   name <- quo_data$name_given\n .                   new_columns[[name]] <- zap()\n .                   mask$remove(name)\n .                 }\n .                 next\n .             }\n .             result <- quo_result$result\n .             chunks <- quo_result$chunks\n .             if (!quo_data$is_named && is.data.frame(result)) {\n .                 types <- vec_ptype(result)\n .                 types_names <- names(types)\n .                 chunks_extracted <- .Call(dplyr_extract_chunks, \n .                   chunks, types)\n .                 for (j in seq_along(types)) {\n .                   mask$add_one(types_names[j], chunks_extracted[[j]], \n .                     result = result[[j]])\n .                 }\n .                 new_columns[types_names] <- result\n .             }\n .             else {\n .                 name <- quo_data$name_auto\n .                 mask$add_one(name = name, chunks = chunks, result = result)\n .                 new_columns[[name]] <- result\n .             }\n .         }\n .     }\n . }, error = function(e) {\n .     local_error_context(dots = dots, .index = i, mask = mask)\n .     bullets <- c(cnd_bullet_header(\"computing\"), mutate_bullets(e))\n .     abort(bullets, class = \"dplyr:::mutate_error\", parent = skip_internal_condition(e), \n .         bullets = bullets, call = error_call)\n . }, warning = function(w) {\n .     if (check_muffled_warning(w)) {\n .         maybe_restart(\"muffleWarning\")\n .     }\n .     local_error_context(dots = dots, .index = i, mask = mask)\n .     warn(c(cnd_bullet_header(\"computing\"), i = cnd_header(w), \n .         i = cnd_bullet_cur_group_label(what = \"warning\")))\n .     maybe_restart(\"muffleWarning\")\n . })",
      "7. mask$eval_all_mutate(quo)",
      "8. dplyr_internal_error(\"dplyr:::mutate_incompatible_size\", list(\n .     result_size = 2L, expected_size = 300068400L))",
      "9. abort(class = c(class, \"dplyr:::internal_error\"), dplyr_error_data = data)",
      "10. signal_abort(cnd, .file)",
      "11. signalCondition(cnd)",
      "12. (function (e) \n  . {\n  .     local_error_context(dots = dots, .index = i, mask = mask)\n  .     bullets <- c(cnd_bullet_header(\"computing\"), mutate_bullets(e))\n  .     abort(bullets, class = \"dplyr:::mutate_error\", parent = skip_internal_condition(e), \n  .         bullets = bullets, call = error_call)\n  . })(structure(list(message = \"\", trace = structure(list(call = list(\n  .     IRkernel::main(), kernel$run(), handle_shell(), executor$execute(msg), \n  .     tryCatch(evaluate(request$content$code, envir = .GlobalEnv, \n  .         output_handler = oh, stop_on_error = 1L), interrupt = function(cond) {\n  .         log_debug(\"Interrupt during execution\")\n  .         interrupted <<- TRUE\n  .     }, error = .self$handle_error), tryCatchList(expr, classes, \n  .         parentenv, handlers), tryCatchOne(tryCatchList(expr, \n  .         names[-nh], parentenv, handlers[-nh]), names[nh], parentenv, \n  .         handlers[[nh]]), doTryCatch(return(expr), name, parentenv, \n  .         handler), tryCatchList(expr, names[-nh], parentenv, handlers[-nh]), \n  .     tryCatchOne(expr, names, parentenv, handlers[[1L]]), doTryCatch(return(expr), \n  .         name, parentenv, handler), evaluate(request$content$code, \n  .         envir = .GlobalEnv, output_handler = oh, stop_on_error = 1L), \n  .     evaluate_call(expr, parsed$src[[i]], envir = envir, enclos = enclos, \n  .         debug = debug, last = i == length(out), use_try = stop_on_error != \n  .             2L, keep_warning = keep_warning, keep_message = keep_message, \n  .         output_handler = output_handler, include_timing = include_timing), \n  .     timing_fn(handle(ev <- withCallingHandlers(withVisible(eval_with_user_handlers(expr, \n  .         envir, enclos, user_handlers)), warning = wHandler, error = eHandler, \n  .         message = mHandler))), handle(ev <- withCallingHandlers(withVisible(eval_with_user_handlers(expr, \n  .         envir, enclos, user_handlers)), warning = wHandler, error = eHandler, \n  .         message = mHandler)), try(f, silent = TRUE), tryCatch(expr, \n  .         error = function(e) {\n  .             call <- conditionCall(e)\n  .             if (!is.null(call)) {\n  .                 if (identical(call[[1L]], quote(doTryCatch))) \n  .                   call <- sys.call(-4L)\n  .                 dcall <- deparse(call, nlines = 1L)\n  .                 prefix <- paste(\"Error in\", dcall, \": \")\n  .                 LONG <- 75L\n  .                 sm <- strsplit(conditionMessage(e), \"\\n\")[[1L]]\n  .                 w <- 14L + nchar(dcall, type = \"w\") + nchar(sm[1L], \n  .                   type = \"w\")\n  .                 if (is.na(w)) \n  .                   w <- 14L + nchar(dcall, type = \"b\") + nchar(sm[1L], \n  .                     type = \"b\")\n  .                 if (w > LONG) \n  .                   prefix <- paste0(prefix, \"\\n  \")\n  .             }\n  .             else prefix <- \"Error : \"\n  .             msg <- paste0(prefix, conditionMessage(e), \"\\n\")\n  .             .Internal(seterrmessage(msg[1L]))\n  .             if (!silent && isTRUE(getOption(\"show.error.messages\"))) {\n  .                 cat(msg, file = outFile)\n  .                 .Internal(printDeferredWarnings())\n  .             }\n  .             invisible(structure(msg, class = \"try-error\", condition = e))\n  .         }), tryCatchList(expr, classes, parentenv, handlers), \n  .     tryCatchOne(expr, names, parentenv, handlers[[1L]]), doTryCatch(return(expr), \n  .         name, parentenv, handler), withCallingHandlers(withVisible(eval_with_user_handlers(expr, \n  .         envir, enclos, user_handlers)), warning = wHandler, error = eHandler, \n  .         message = mHandler), withVisible(eval_with_user_handlers(expr, \n  .         envir, enclos, user_handlers)), eval_with_user_handlers(expr, \n  .         envir, enclos, user_handlers), eval(expr, envir, enclos), \n  .     eval(expr, envir, enclos), plot_iso_structure(gene = gene, \n  .         extra = 1000, repeat_draw = FALSE, atac_draw = TRUE, \n  .         rip_draw = FALSE), purrr::map_df(result_list, ~as.data.frame(.x)) %>% \n  .         merge(., sum_atac, by = \"isoform\") %>% dplyr::mutate(height = 1e+10 * \n  .         height/sum_count, height = max(height), anno = \"ATAC\", \n  .         domain = NA, associated_gene = NA, region = \"ATAC_dummy\", \n  .         chrom = region_chrom), dplyr::mutate(., height = 1e+10 * \n  .         height/sum_count, height = max(height), anno = \"ATAC\", \n  .         domain = NA, associated_gene = NA, region = \"ATAC_dummy\", \n  .         chrom = region_chrom), mutate.data.frame(., height = 1e+10 * \n  .         height/sum_count, height = max(height), anno = \"ATAC\", \n  .         domain = NA, associated_gene = NA, region = \"ATAC_dummy\", \n  .         chrom = region_chrom), mutate_cols(.data, dplyr_quosures(...), \n  .         caller_env = caller_env()), withCallingHandlers({\n  .         for (i in seq_along(dots)) {\n  .             context_poke(\"column\", old_current_column)\n  .             quosures <- expand_across(dots[[i]])\n  .             quosures_results <- vector(mode = \"list\", length = length(quosures))\n  .             for (k in seq_along(quosures)) {\n  .                 quo <- quosures[[k]]\n  .                 quo_data <- attr(quo, \"dplyr:::data\")\n  .                 if (!is.null(quo_data$column)) {\n  .                   context_poke(\"column\", quo_data$column)\n  .                 }\n  .                 chunks <- NULL\n  .                 result <- NULL\n  .                 if (quo_is_symbol(quo)) {\n  .                   name <- as_string(quo_get_expr(quo))\n  .                   if (name %in% names(new_columns)) {\n  .                     result <- new_columns[[name]]\n  .                     chunks <- mask$resolve(name)\n  .                   }\n  .                   else if (name %in% names(.data)) {\n  .                     result <- .data[[name]]\n  .                     chunks <- mask$resolve(name)\n  .                   }\n  .                   if (inherits(.data, \"rowwise_df\") && vec_is_list(result)) {\n  .                     sizes <- list_sizes(result)\n  .                     wrong <- which(sizes != 1)\n  .                     if (length(wrong)) {\n  .                       group <- wrong[1L]\n  .                       mask$set_current_group(group)\n  .                       abort(class = c(\"dplyr:::mutate_incompatible_size\", \n  .                         \"dplyr:::internal_error\"), dplyr_error_data = list(result_size = sizes[group], \n  .                         expected_size = 1))\n  .                     }\n  .                   }\n  .                 }\n  .                 else if (!quo_is_symbolic(quo) && !is.null(quo_get_expr(quo))) {\n  .                   result <- quo_get_expr(quo)\n  .                   result <- withCallingHandlers(vec_recycle(result, \n  .                     vec_size(.data)), error = function(cnd) {\n  .                     abort(class = c(\"dplyr:::mutate_constant_recycle_error\", \n  .                       \"dplyr:::internal_error\"), constant_size = vec_size(result), \n  .                       data_size = vec_size(.data))\n  .                   })\n  .                   chunks <- vec_chop(result, rows)\n  .                 }\n  .                 if (is.null(chunks)) {\n  .                   if (is.null(quo_data$column)) {\n  .                     chunks <- mask$eval_all_mutate(quo)\n  .                   }\n  .                   else {\n  .                     chunks <- withCallingHandlers(mask$eval_all_mutate(quo), \n  .                       error = function(cnd) {\n  .                         msg <- glue(\"Problem while computing column `{quo_data$name_auto}`.\")\n  .                         abort(msg, call = call(\"across\"), parent = cnd)\n  .                       })\n  .                   }\n  .                 }\n  .                 if (is.null(chunks)) {\n  .                   next\n  .                 }\n  .                 if (is.null(result)) {\n  .                   if (length(rows) == 1) {\n  .                     result <- chunks[[1]]\n  .                   }\n  .                   else {\n  .                     chunks <- dplyr_vec_cast_common(chunks, quo_data$name_auto)\n  .                     result <- vec_unchop(chunks, rows)\n  .                   }\n  .                 }\n  .                 quosures_results[[k]] <- list(result = result, \n  .                   chunks = chunks)\n  .             }\n  .             for (k in seq_along(quosures)) {\n  .                 quo <- quosures[[k]]\n  .                 quo_data <- attr(quo, \"dplyr:::data\")\n  .                 quo_result <- quosures_results[[k]]\n  .                 if (is.null(quo_result)) {\n  .                   if (quo_data$is_named) {\n  .                     name <- quo_data$name_given\n  .                     new_columns[[name]] <- zap()\n  .                     mask$remove(name)\n  .                   }\n  .                   next\n  .                 }\n  .                 result <- quo_result$result\n  .                 chunks <- quo_result$chunks\n  .                 if (!quo_data$is_named && is.data.frame(result)) {\n  .                   types <- vec_ptype(result)\n  .                   types_names <- names(types)\n  .                   chunks_extracted <- .Call(dplyr_extract_chunks, \n  .                     chunks, types)\n  .                   for (j in seq_along(types)) {\n  .                     mask$add_one(types_names[j], chunks_extracted[[j]], \n  .                       result = result[[j]])\n  .                   }\n  .                   new_columns[types_names] <- result\n  .                 }\n  .                 else {\n  .                   name <- quo_data$name_auto\n  .                   mask$add_one(name = name, chunks = chunks, \n  .                     result = result)\n  .                   new_columns[[name]] <- result\n  .                 }\n  .             }\n  .         }\n  .     }, error = function(e) {\n  .         local_error_context(dots = dots, .index = i, mask = mask)\n  .         bullets <- c(cnd_bullet_header(\"computing\"), mutate_bullets(e))\n  .         abort(bullets, class = \"dplyr:::mutate_error\", parent = skip_internal_condition(e), \n  .             bullets = bullets, call = error_call)\n  .     }, warning = function(w) {\n  .         if (check_muffled_warning(w)) {\n  .             maybe_restart(\"muffleWarning\")\n  .         }\n  .         local_error_context(dots = dots, .index = i, mask = mask)\n  .         warn(c(cnd_bullet_header(\"computing\"), i = cnd_header(w), \n  .             i = cnd_bullet_cur_group_label(what = \"warning\")))\n  .         maybe_restart(\"muffleWarning\")\n  .     }), mask$eval_all_mutate(quo), dplyr_internal_error(\"dplyr:::mutate_incompatible_size\", \n  .         `<named list>`), abort(class = c(class, \"dplyr:::internal_error\"), \n  .         dplyr_error_data = data)), parent = c(0L, 1L, 2L, 3L, \n  . 4L, 5L, 6L, 7L, 6L, 9L, 10L, 4L, 12L, 13L, 13L, 15L, 16L, 17L, \n  . 18L, 19L, 13L, 13L, 13L, 23L, 24L, 0L, 26L, 0L, 0L, 29L, 30L, \n  . 30L, 0L, 33L), visible = c(TRUE, TRUE, TRUE, TRUE, TRUE, TRUE, \n  . TRUE, TRUE, TRUE, TRUE, TRUE, TRUE, TRUE, TRUE, TRUE, TRUE, TRUE, \n  . TRUE, TRUE, TRUE, TRUE, TRUE, TRUE, TRUE, TRUE, TRUE, TRUE, TRUE, \n  . TRUE, TRUE, TRUE, TRUE, TRUE, FALSE), namespace = c(\"IRkernel\", \n  . NA, \"IRkernel\", NA, \"base\", \"base\", \"base\", \"base\", \"base\", \"base\", \n  . \"base\", \"evaluate\", \"evaluate\", \"evaluate\", \"evaluate\", \"base\", \n  . \"base\", \"base\", \"base\", \"base\", \"base\", \"base\", \"evaluate\", \"base\", \n  . \"base\", NA, NA, \"dplyr\", \"dplyr\", \"dplyr\", \"base\", NA, \"dplyr\", \n  . \"rlang\"), scope = c(\"::\", NA, \"local\", NA, \"::\", \"local\", \"local\", \n  . \"local\", \"local\", \"local\", \"local\", \"::\", \":::\", \"local\", \"local\", \n  . \"::\", \"::\", \"local\", \"local\", \"local\", \"::\", \"::\", \":::\", \"::\", \n  . \"::\", \"global\", NA, \"::\", \":::\", \":::\", \"::\", NA, \":::\", \"::\"\n  . ), error_frame = c(FALSE, FALSE, FALSE, FALSE, FALSE, FALSE, \n  . FALSE, FALSE, FALSE, FALSE, FALSE, FALSE, FALSE, FALSE, FALSE, \n  . FALSE, FALSE, FALSE, FALSE, FALSE, FALSE, FALSE, FALSE, FALSE, \n  . FALSE, FALSE, FALSE, FALSE, FALSE, FALSE, FALSE, FALSE, TRUE, \n  . FALSE)), row.names = c(NA, -34L), version = 2L, class = c(\"rlang_trace\", \n  . \"rlib_trace\", \"tbl\", \"data.frame\")), parent = NULL, dplyr_error_data = list(\n  .     result_size = 2L, expected_size = 300068400L), call = dplyr_internal_error(\"dplyr:::mutate_incompatible_size\", \n  .     list(result_size = 2L, expected_size = 300068400L)), use_cli_format = TRUE), class = c(\"dplyr:::mutate_incompatible_size\", \n  . \"dplyr:::internal_error\", \"rlang_error\", \"error\", \"condition\"\n  . )))",
      "13. abort(bullets, class = \"dplyr:::mutate_error\", parent = skip_internal_condition(e), \n  .     bullets = bullets, call = error_call)",
      "14. signal_abort(cnd, .file)"
     ]
    }
   ],
   "source": [
    "gene=\"IRAK1|MECP2\"\n",
    "\n",
    "options(repr.plot.width=12, repr.plot.height=9)\n",
    "g = plot_iso_structure(gene = gene, extra = 1e03, repeat_draw = FALSE, atac_draw = TRUE, rip_draw = FALSE) + theme(strip.text.y=element_text(angle = 0, size=10, color=\"black\"))\n",
    "g <- ggplotGrob(g)\n",
    "for(i in which(grepl(\"strip-r\", g$layout$name))){\n",
    "  g$grobs[[i]]$layout$clip <- \"off\"\n",
    "}\n",
    "grid::grid.draw(g)\n",
    "\n",
    "pdf(\"./FigS9.pdf\", width=12, height=9)\n",
    "grid::grid.draw(g)\n",
    "dev.off()"
   ]
  },
  {
   "cell_type": "code",
   "execution_count": null,
   "id": "f28e1400-400f-42a2-b8ec-a9e90b7e039b",
   "metadata": {},
   "outputs": [],
   "source": []
  }
 ],
 "metadata": {
  "kernelspec": {
   "display_name": "R",
   "language": "R",
   "name": "ir"
  },
  "language_info": {
   "codemirror_mode": "r",
   "file_extension": ".r",
   "mimetype": "text/x-r-source",
   "name": "R",
   "pygments_lexer": "r",
   "version": "4.1.3"
  }
 },
 "nbformat": 4,
 "nbformat_minor": 5
}
