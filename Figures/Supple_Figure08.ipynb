{
 "cells": [
  {
   "cell_type": "code",
   "execution_count": 1,
   "id": "f727b45f-b1e2-4efa-886c-3e9f7984b4fc",
   "metadata": {},
   "outputs": [],
   "source": [
    "suppressMessages(library(data.table))\n",
    "suppressMessages(library(tidyverse))\n",
    "suppressMessages(library(stringr))\n",
    "suppressMessages(library(ggplot2))\n",
    "suppressMessages(library(ggpubr))\n",
    "suppressMessages(library(ggalluvial))\n",
    "suppressMessages(library(ggsci))\n",
    "options(warn=-1) # use options(warn=0) To turn warnings back on\n",
    "options(dplyr.summarise.inform = FALSE)\n",
    "source(\"../src/confidence_interval.r\")"
   ]
  },
  {
   "cell_type": "code",
   "execution_count": 2,
   "id": "56bee56d-ace4-4716-a0c6-82add83cf571",
   "metadata": {},
   "outputs": [],
   "source": [
    "setwd(\"/Users/inamojun/TMDU-LR_isoform_atlas/Figures\")"
   ]
  },
  {
   "cell_type": "code",
   "execution_count": null,
   "id": "68ef0e17-1c6f-471e-a6b6-cf02e039be58",
   "metadata": {},
   "outputs": [],
   "source": [
    "#load data\n",
    "load(\"../data/data_SupFig08.RData\")"
   ]
  },
  {
   "cell_type": "code",
   "execution_count": null,
   "id": "da4d6e30-5990-4e27-9c9c-c6939d6b38cf",
   "metadata": {},
   "outputs": [],
   "source": [
    "options(repr.plot.width=6, repr.plot.height=6)\n",
    "g = ss %>%\n",
    "  # dplyr::filter((PARS_score_renatured+PARS_score_rep1+PARS_score_rep2)/3 < as.numeric(quantile((merged$PARS_score_renatured+merged$PARS_score_rep1+merged$PARS_score_rep2)/3, probs = seq(0, 1, 0.01))[\"99%\"]) &\n",
    "  #                (PARS_score_renatured+PARS_score_rep1+PARS_score_rep2)/3 > as.numeric(quantile((merged$PARS_score_renatured+merged$PARS_score_rep1+merged$PARS_score_rep2)/3, probs = seq(0, 1, 0.01))[\"1%\"])) %>%\n",
    "  dplyr::mutate(PARS_score_bin = cut((PARS_score_renatured+PARS_score_rep1+PARS_score_rep2)/3, breaks=c(seq(-7,7,0.1))) %>% stringr::str_split(.,pattern=\",\",simplify = TRUE) %>% .[,2] %>% gsub(\"\\\\]\",\"\",.) %>% as.numeric(),\n",
    "                folding_strength = -1*MFE,\n",
    "                region = case_when(\n",
    "                  scaled_distance_from_cap_TSS2TTS <=100 ~ \"5'UTR\",\n",
    "                  scaled_distance_from_cap_TSS2TTS <=200 & scaled_distance_from_cap_TSS2TTS > 100 ~ \"CDS\",\n",
    "                  scaled_distance_from_cap_TSS2TTS <=300 & scaled_distance_from_cap_TSS2TTS > 200 ~ \"3'UTR\"\n",
    "                ),\n",
    "                region = factor(region, levels=c(\"5'UTR\",\"CDS\",\"3'UTR\"))) %>%\n",
    "  dplyr::group_by(PARS_score_bin) %>%\n",
    "  dplyr::summarize(folding_strength_mean = mean(folding_strength),\n",
    "                   folding_strength_CI_up = confidence_interval_upper(folding_strength),\n",
    "                   folding_strength_CI_low = confidence_interval_lower(folding_strength)\n",
    "  ) %>%\n",
    "  as.data.frame() %>%\n",
    "  na.omit() %>%\n",
    "  ggscatter(., x = \"PARS_score_bin\", y = \"folding_strength_mean\",\n",
    "            color = \"black\", shape = 21, size = 5, # Points color, shape and size\n",
    "            add = \"reg.line\",  # Add regressin line\n",
    "            add.params = list(color = \"blue\", fill = \"lightgray\"), # Customize reg. line\n",
    "            conf.int = TRUE, # Add confidence interval\n",
    "            cor.coef = TRUE, # Add correlation coefficient. see ?stat_cor\n",
    "            cor.coeff.args = list(method = \"spearman\", label.sep = \"\\n\"), cor.coef.size = 6\n",
    "  ) +\n",
    "  ggtitle(\"local folding strength and PARS score\") +\n",
    "  ylab(paste0(\"folding strength (-MFE)\")) +\n",
    "  xlab(\"averaged PARS score\\n[PARS_score_renatured+PARS_score_rep1+PARS_score_rep2]\") +\n",
    "  theme_minimal() +\n",
    "  theme(strip.text.x=element_text(size=20, color=\"black\", face=\"bold\"),\n",
    "        strip.text.y=element_text(size=20, color=\"black\", face=\"bold\"),\n",
    "        legend.position = \"bottom\",\n",
    "        plot.title = element_text(size=20),\n",
    "        axis.title.x = element_text(size=20),\n",
    "        axis.title.y = element_text(size =20),\n",
    "        axis.text.y = element_text(size = 20),\n",
    "        axis.text.x = element_text(size = 20),\n",
    "        legend.text =  element_text(size = 20), \n",
    "        legend.key.size = grid::unit(0.8, \"lines\"),\n",
    "        legend.title = element_text(size = 0, hjust = 0))\n",
    "g\n",
    "pdf(\"./FigS8.pdf\", width=6, height=6)\n",
    "g\n",
    "dev.off()"
   ]
  },
  {
   "cell_type": "code",
   "execution_count": null,
   "id": "cb668b6d-29b6-4f3c-a56f-8a9dc372dd35",
   "metadata": {},
   "outputs": [],
   "source": []
  }
 ],
 "metadata": {
  "kernelspec": {
   "display_name": "R",
   "language": "R",
   "name": "ir"
  },
  "language_info": {
   "codemirror_mode": "r",
   "file_extension": ".r",
   "mimetype": "text/x-r-source",
   "name": "R",
   "pygments_lexer": "r",
   "version": "4.1.3"
  }
 },
 "nbformat": 4,
 "nbformat_minor": 5
}
