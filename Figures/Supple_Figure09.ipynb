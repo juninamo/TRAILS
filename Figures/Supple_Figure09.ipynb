{
 "cells": [
  {
   "cell_type": "code",
   "execution_count": 1,
   "id": "6f0a8c3b-e72d-48f6-b096-2b9e29ab6a74",
   "metadata": {},
   "outputs": [],
   "source": [
    "suppressMessages(library(data.table))\n",
    "suppressMessages(library(ggplot2))\n",
    "suppressMessages(library(ggsci))\n",
    "suppressMessages(library(magrittr))\n",
    "suppressMessages(library(ggrepel))\n",
    "suppressMessages(library(dplyr))\n",
    "suppressMessages(library(ggpubr))\n",
    "suppressMessages(library(valr))\n",
    "suppressMessages(library(ggiraphExtra))\n",
    "options(warn=-1) # use options(warn=0) To turn warnings back on\n",
    "options(dplyr.summarise.inform = FALSE)\n",
    "source(\"../src/plot_iso_structure.r\")"
   ]
  },
  {
   "cell_type": "code",
   "execution_count": 2,
   "id": "05df2e90-ab2a-4ac7-9eeb-c2a1b8a0c30d",
   "metadata": {},
   "outputs": [],
   "source": [
    "setwd(\"/Users/inamojun/TMDU-LR_isoform_atlas/Figures\")"
   ]
  },
  {
   "cell_type": "code",
   "execution_count": 3,
   "id": "7e8479d6-eb6f-41c4-8f6a-1e28423d4e31",
   "metadata": {},
   "outputs": [],
   "source": [
    "#load data\n",
    "load(\"../data/data_Fig02extra.RData\")"
   ]
  },
  {
   "cell_type": "code",
   "execution_count": null,
   "id": "e6ad7032-1008-477a-8272-7758b4888e2d",
   "metadata": {},
   "outputs": [],
   "source": [
    "gene=\"IRAK1|MECP2\"\n",
    "\n",
    "options(repr.plot.width=12, repr.plot.height=9)\n",
    "g = plot_iso_structure(gene = gene, extra = 1e03, repeat_draw = FALSE, atac_draw = TRUE, rip_draw = FALSE) + theme(strip.text.y=element_text(angle = 0, size=10, color=\"black\"))\n",
    "g <- ggplotGrob(g)\n",
    "for(i in which(grepl(\"strip-r\", g$layout$name))){\n",
    "  g$grobs[[i]]$layout$clip <- \"off\"\n",
    "}\n",
    "grid::grid.draw(g)\n",
    "\n",
    "pdf(\"./FigS9.pdf\", width=12, height=9)\n",
    "grid::grid.draw(g)\n",
    "dev.off()"
   ]
  },
  {
   "cell_type": "code",
   "execution_count": null,
   "id": "f28e1400-400f-42a2-b8ec-a9e90b7e039b",
   "metadata": {},
   "outputs": [],
   "source": []
  }
 ],
 "metadata": {
  "kernelspec": {
   "display_name": "R",
   "language": "R",
   "name": "ir"
  },
  "language_info": {
   "codemirror_mode": "r",
   "file_extension": ".r",
   "mimetype": "text/x-r-source",
   "name": "R",
   "pygments_lexer": "r",
   "version": "4.1.3"
  }
 },
 "nbformat": 4,
 "nbformat_minor": 5
}
