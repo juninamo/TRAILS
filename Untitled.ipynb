{
 "cells": [
  {
   "cell_type": "code",
   "execution_count": 1,
   "id": "dd3b8ee0-f43d-4680-ac16-869353296080",
   "metadata": {},
   "outputs": [],
   "source": [
    "suppressMessages(library(tidyverse))\n",
    "options(warn=-1) # use options(warn=0) To turn warnings back on\n",
    "options(dplyr.summarise.inform = FALSE)"
   ]
  },
  {
   "cell_type": "code",
   "execution_count": 2,
   "id": "d52619fb-3e73-4256-b077-57d65c27dedd",
   "metadata": {},
   "outputs": [],
   "source": [
    "setwd(\"/Users/inamojun/TMDU-LR_isoform_atlas/Figures\")"
   ]
  },
  {
   "cell_type": "code",
   "execution_count": 4,
   "id": "66c9dbbf-41c9-4134-b573-26be6a2f5feb",
   "metadata": {},
   "outputs": [
    {
     "ename": "ERROR",
     "evalue": "Error in load(\"../data/data_SupFig14.RData\"): error reading from connection\n",
     "output_type": "error",
     "traceback": [
      "Error in load(\"../data/data_SupFig14.RData\"): error reading from connection\nTraceback:\n",
      "1. load(\"../data/data_SupFig14.RData\")"
     ]
    }
   ],
   "source": [
    "#load data\n",
    "load(\"../data/data_SupFig14.RData\")"
   ]
  },
  {
   "cell_type": "code",
   "execution_count": null,
   "id": "8b73d5ba-3726-4de6-a41f-d0f8a6ac7282",
   "metadata": {},
   "outputs": [],
   "source": [
    "set.seed(1234)\n",
    "select = sample(ncol(kallisto_iso),4)\n",
    "\n",
    "options(repr.plot.width=8, repr.plot.height=8)\n",
    "par(mfrow=c(3,4))\n",
    "# gene level\n",
    "for (i in select) { \n",
    "  test = cor.test(log(kallisto_gene[,i]+1),log(stringtie_gene[,i]+1))\n",
    "  plot(kallisto_gene[,i]+1, stringtie_gene[,i]+1, log = \"xy\", las = 1, col = c(alpha('black', 0.01)), pch=20, xlab = \"kallisto [log(TPM+1)]\", ylab = \"StringTie2 [log(TPM+1)]\",main=colnames(kallisto_gene)[i]);\n",
    "  text(x=500, y=5, col=rgb(1,0,0), paste0(ifelse(test$p.value == 0, \"p<2.2e-16\",format(test$p.value, digit=2)),\", R=\",format(test$estimate, digit=2)))\n",
    "}\n",
    "# isoform level\n",
    "## TPM\n",
    "for (i in select) { \n",
    "  test = cor.test(log(kallisto_iso[,i]+1),log(stringtie_iso[,i]+1))\n",
    "  plot(kallisto_iso[,i]+1, stringtie_iso[,i]+1, log = \"xy\", las = 1, col = c(alpha('black', 0.01)), pch=20, xlab = \"kallisto [log(TPM+1)]\", ylab = \"StringTie2 [log(TPM+1)]\",main=colnames(kallisto_iso)[i]);\n",
    "  text(x=500, y=5, col=rgb(1,0,0), paste0(ifelse(test$p.value == 0, \"p<2.2e-16\",format(test$p.value, digit=2)),\", R=\",format(test$estimate, digit=2)))\n",
    "}\n",
    "## transcript ratio\n",
    "for (i in select) { \n",
    "  test = cor.test(kallisto_ratio[,i]+1,stringtie_ratio[,i]+1)\n",
    "  plot(kallisto_ratio[,i], stringtie_ratio[,i], las = 1, col = c(alpha('black', 0.01)), pch=20, xlab = \"unique [transcript ratio]\", ylab = \"multimapping correction [transcript ratio]\",main=colnames(kallisto_ratio)[i]);\n",
    "  text(x=0.7, y=0.2, col=rgb(1,0,0), paste0(ifelse(test$p.value == 0, \"p<2.2e-16\",format(test$p.value, digit=2)),\", R=\",format(test$estimate, digit=2)))\n",
    "}"
   ]
  }
 ],
 "metadata": {
  "kernelspec": {
   "display_name": "R",
   "language": "R",
   "name": "ir"
  },
  "language_info": {
   "codemirror_mode": "r",
   "file_extension": ".r",
   "mimetype": "text/x-r-source",
   "name": "R",
   "pygments_lexer": "r",
   "version": "4.1.3"
  }
 },
 "nbformat": 4,
 "nbformat_minor": 5
}
